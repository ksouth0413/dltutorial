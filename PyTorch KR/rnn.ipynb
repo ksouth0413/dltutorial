{
  "nbformat": 4,
  "nbformat_minor": 0,
  "metadata": {
    "colab": {
      "provenance": [],
      "collapsed_sections": [
        "jfOfYSdsijJV",
        "SwhWk1ypPUYQ",
        "TeHfew-RSNZn",
        "5MtSYrTmcIL-",
        "IPVvWrMHYelv",
        "q3qAoF6BYrPW",
        "qVA-IZP3Yzz2",
        "oDyQIe8lY_Vl"
      ],
      "gpuType": "T4"
    },
    "kernelspec": {
      "name": "python3",
      "display_name": "Python 3"
    },
    "accelerator": "GPU"
  },
  "cells": [
    {
      "cell_type": "markdown",
      "metadata": {
        "id": "w7dUbyNVXcEf"
      },
      "source": [
        "# 문자-단위 RNN으로 이름 분류하기\n",
        "- 코드 출처: https://tutorials.pytorch.kr/intermediate/char_rnn_classification_tutorial.html"
      ]
    },
    {
      "cell_type": "markdown",
      "source": [
        "## 데이터 처리"
      ],
      "metadata": {
        "id": "jfOfYSdsijJV"
      }
    },
    {
      "cell_type": "markdown",
      "source": [
        "### 데이터 다운로드\n",
        "* 나라명.txt 파일 안에 한 줄씩 그 나라사람 이름이 들어가있다."
      ],
      "metadata": {
        "id": "SwhWk1ypPUYQ"
      }
    },
    {
      "cell_type": "code",
      "metadata": {
        "id": "dB-d43kLYEAi",
        "colab": {
          "base_uri": "https://localhost:8080/"
        },
        "outputId": "e24b6004-5ecc-4865-94af-151436d57434"
      },
      "source": [
        "!wget https://download.pytorch.org/tutorial/data.zip\n",
        "!unzip data.zip"
      ],
      "execution_count": 1,
      "outputs": [
        {
          "output_type": "stream",
          "name": "stdout",
          "text": [
            "--2024-09-01 09:44:36--  https://download.pytorch.org/tutorial/data.zip\n",
            "Resolving download.pytorch.org (download.pytorch.org)... 18.238.238.82, 18.238.238.104, 18.238.238.114, ...\n",
            "Connecting to download.pytorch.org (download.pytorch.org)|18.238.238.82|:443... connected.\n",
            "HTTP request sent, awaiting response... 200 OK\n",
            "Length: 2882130 (2.7M) [application/zip]\n",
            "Saving to: ‘data.zip’\n",
            "\n",
            "\rdata.zip              0%[                    ]       0  --.-KB/s               \rdata.zip            100%[===================>]   2.75M  --.-KB/s    in 0.05s   \n",
            "\n",
            "2024-09-01 09:44:36 (50.2 MB/s) - ‘data.zip’ saved [2882130/2882130]\n",
            "\n",
            "Archive:  data.zip\n",
            "   creating: data/\n",
            "  inflating: data/eng-fra.txt        \n",
            "   creating: data/names/\n",
            "  inflating: data/names/Arabic.txt   \n",
            "  inflating: data/names/Chinese.txt  \n",
            "  inflating: data/names/Czech.txt    \n",
            "  inflating: data/names/Dutch.txt    \n",
            "  inflating: data/names/English.txt  \n",
            "  inflating: data/names/French.txt   \n",
            "  inflating: data/names/German.txt   \n",
            "  inflating: data/names/Greek.txt    \n",
            "  inflating: data/names/Irish.txt    \n",
            "  inflating: data/names/Italian.txt  \n",
            "  inflating: data/names/Japanese.txt  \n",
            "  inflating: data/names/Korean.txt   \n",
            "  inflating: data/names/Polish.txt   \n",
            "  inflating: data/names/Portuguese.txt  \n",
            "  inflating: data/names/Russian.txt  \n",
            "  inflating: data/names/Scottish.txt  \n",
            "  inflating: data/names/Spanish.txt  \n",
            "  inflating: data/names/Vietnamese.txt  \n"
          ]
        }
      ]
    },
    {
      "cell_type": "code",
      "source": [
        "# 18개의 나라\n",
        "\n",
        "import glob\n",
        "import os\n",
        "\n",
        "all_categories = []\n",
        "\n",
        "def findFiles(path):\n",
        "    return glob.glob(path)\n",
        "\n",
        "for filename in findFiles('data/names/*.txt'):\n",
        "    # os.path.basename(filename) : 파일명만 가져옴 <- Spanish.txt\n",
        "    # os.path.splitext(Spanish.txt) : 확장자로 분리 <- Spanish, .txt\n",
        "    category = os.path.splitext(os.path.basename(filename))[0]\n",
        "\n",
        "    all_categories.append(category)\n",
        "n_categories = len(all_categories)\n",
        "\n",
        "all_categories, n_categories"
      ],
      "metadata": {
        "id": "e4iFjV-wN32y",
        "colab": {
          "base_uri": "https://localhost:8080/"
        },
        "outputId": "8e0d8453-17cb-4b22-d023-b344cbdb4a86"
      },
      "execution_count": 2,
      "outputs": [
        {
          "output_type": "execute_result",
          "data": {
            "text/plain": [
              "(['Italian',\n",
              "  'Russian',\n",
              "  'Portuguese',\n",
              "  'Chinese',\n",
              "  'Polish',\n",
              "  'English',\n",
              "  'Dutch',\n",
              "  'Japanese',\n",
              "  'Greek',\n",
              "  'Spanish',\n",
              "  'German',\n",
              "  'Vietnamese',\n",
              "  'French',\n",
              "  'Arabic',\n",
              "  'Irish',\n",
              "  'Czech',\n",
              "  'Korean',\n",
              "  'Scottish'],\n",
              " 18)"
            ]
          },
          "metadata": {},
          "execution_count": 2
        }
      ]
    },
    {
      "cell_type": "code",
      "source": [
        "# 한줄에 하나씩 이름 저장\n",
        "\n",
        "# 파일 경로 설정\n",
        "file_path = 'data/names/Spanish.txt'\n",
        "\n",
        "# 파일 읽기\n",
        "content = open(file_path, 'r', encoding='utf-8').read().strip()\n",
        "# 위와 동일한 코드\n",
        "# with open(file_path, 'r', encoding='utf-8') as file:\n",
        "#     content = file.read().strip()\n",
        "\n",
        "content"
      ],
      "metadata": {
        "id": "c9trNzLcQoB6",
        "colab": {
          "base_uri": "https://localhost:8080/",
          "height": 268
        },
        "outputId": "c02360a0-2ba0-4747-aa17-5bfad7ddedd0"
      },
      "execution_count": 3,
      "outputs": [
        {
          "output_type": "execute_result",
          "data": {
            "text/plain": [
              "\"Abana\\nAbano\\nAbarca\\nAbaroa\\nAbascal\\nAbasolo\\nAbel\\nAbelló\\nAberquero\\nAbreu\\nAcosta\\nAgramunt\\nAiza\\nAlamilla\\nAlbert\\nAlbuquerque\\nAldana\\nAlfaro\\nAlvarado\\nÁlvarez\\nAlves\\nAmador\\nAndreu\\nAntúnez\\nAqua\\nAquino\\nAraújo\\nAraullo\\nAraya\\nArce\\nArechavaleta\\nArena\\nAritza\\nArmando\\nArreola\\nArriola\\nAsis\\nAsturias\\nAvana\\nAzarola\\nBanderas\\nBarros\\nBasurto\\nBautista\\nBello\\nBelmonte\\nBengochea\\nBenitez\\nBermúdez\\nBlanco\\nBlanxart\\nBolívar\\nBonaventura\\nBosque\\nBustillo\\nBusto\\nBustos\\nCabello\\nCabrera\\nCampo\\nCampos\\nCapello\\nCardona\\nCaro\\nCasales\\nCastell\\nCastellano\\nCastillion\\nCastillo\\nCastro\\nChavarría\\nChavez\\nColón\\nCosta\\nCrespo\\nCruz\\nCuéllar\\nCuevas\\nD'cruz\\nD'cruze\\nDe la cruz\\nDe la fuente\\nDel bosque\\nDe leon\\nDelgado\\nDel olmo\\nDe santigo\\nDíaz\\nDominguez\\nDuarte\\nDurante\\nEchevarría\\nEcheverría\\nElizondo\\nEscamilla\\nEscárcega\\nEscarrà\\nEsparza\\nEspina\\nEspino\\nEspinosa\\nEspinoza\\nEstévez\\nEtxebarria\\nEtxeberria\\nFélix\\nFernández\\nFerrer\\nFierro\\nFlores\\nFonseca\\nFranco\\nFuentes\\nGallego\\nGallo\\nGarcía\\nGarrastazu\\nGarza\\nGaspar\\nGebara\\nGomez\\nGonzales\\nGonzalez\\nGrec\\nGuadarrama\\nGuerra\\nGuerrero\\nGutiérrez\\nGutierrez\\nHernandez\\nHerrera\\nHerrero\\nHierro\\nHolguín\\nHuerta\\nIbáñez\\nIbarra\\nIñíguez\\nIturburua\\nJaso\\nJasso\\nJimenez\\nJordà\\nJuárez\\nLobo\\nLopez\\nLosa\\nLoyola\\nMachado\\nMacías\\nMaradona\\nMaría\\nMarino\\nMárquez\\nMartell\\nMartí\\nMartínez\\nMartinez\\nMas\\nMata\\nMateu\\nMedina\\nMelendez\\nMéndez\\nMendoza\\nMenendez\\nMerlo\\nMichel\\nMingo\\nMoles\\nMolina\\nMontero\\nMorales\\nMoralez\\nMoreno\\nNarváez\\nNieves\\nNoguerra\\nNúñez\\nObando\\nOchoa\\nOjeda\\nOla\\nOleastro\\nOlguin\\nOliver\\nOlmos\\nOquendo\\nOrellana\\nOriol\\nOrtega\\nOrtiz\\nPalomo\\nParedes\\nPavia\\nPeláez\\nPeña\\nPérez\\nPerez\\nPetit\\nPicasso\\nPorra\\nPorras\\nPrieto\\nPuerta\\nPuga\\nPuig\\nQuinones\\nQuintana\\nQuirós\\nRamírez\\nRamos\\nRana\\nRendón\\nRey\\nReyes\\nRios\\nRivera\\nRivero\\nRobledo\\nRobles\\nRocha\\nRodríguez\\nRodriquez\\nRoig\\nRojas\\nRojo\\nRoldán\\nRomà\\nRomà\\nRomero\\nRosa\\nRosales\\nRubio\\nRuiz\\nSala\\nSalamanca\\nSalazar\\nSalcedo\\nSalinas\\nSanchez\\nSandoval\\nSan nicolas\\nSantana\\nSantiago\\nSantillian\\nSantos\\nSastre\\nSepúlveda\\nSierra\\nSilva\\nSoler\\nSolo\\nSolos\\nSoto\\nSuárez\\nSuero\\nTapia\\nTerrazas\\nTomàs\\nTorres\\nTos\\nTosell\\nToset\\nTravieso\\nTrujillo\\nUbina\\nUrbina\\nUreña\\nValdez\\nValencia\\nVarela\\nVargas\\nVásquez\\nVázquez\\nVega\\nVela\\nVela\\nVelazquez\\nVentura\\nVicario\\nVilaró\\nVilla\\nVillalobos\\nVillanueva\\nVillaverde\\nViola\\nViteri\\nVivas\\nVives\\nYbarra\\nZabala\\nZambrano\\nZamorano\\nZapatero\\nZavala\\nZubizarreta\\nZuñiga\""
            ],
            "application/vnd.google.colaboratory.intrinsic+json": {
              "type": "string"
            }
          },
          "metadata": {},
          "execution_count": 3
        }
      ]
    },
    {
      "cell_type": "code",
      "source": [
        "# 나라파일 당 이름수\n",
        "\n",
        "for filename in findFiles('data/names/*.txt'):\n",
        "    category = os.path.splitext(os.path.basename(filename))[0]\n",
        "    lines = open(filename, encoding='utf-8').read().strip().split('\\n')\n",
        "    print(f'{category} : {len(lines)}')"
      ],
      "metadata": {
        "id": "GxWOyBVGOzYx",
        "colab": {
          "base_uri": "https://localhost:8080/"
        },
        "outputId": "54ddff15-6f45-4eca-b967-d2ab0f6c4f25"
      },
      "execution_count": 4,
      "outputs": [
        {
          "output_type": "stream",
          "name": "stdout",
          "text": [
            "Italian : 709\n",
            "Russian : 9408\n",
            "Portuguese : 74\n",
            "Chinese : 268\n",
            "Polish : 139\n",
            "English : 3668\n",
            "Dutch : 297\n",
            "Japanese : 991\n",
            "Greek : 203\n",
            "Spanish : 298\n",
            "German : 724\n",
            "Vietnamese : 73\n",
            "French : 277\n",
            "Arabic : 2000\n",
            "Irish : 232\n",
            "Czech : 519\n",
            "Korean : 94\n",
            "Scottish : 100\n"
          ]
        }
      ]
    },
    {
      "cell_type": "markdown",
      "source": [
        "### 데이터 전처리\n",
        "* unicode(Ślusàrski) -> ascii(Slusarski)\n",
        "* category_lines = {category : [이름1, 이름2, ...], ...}"
      ],
      "metadata": {
        "id": "TeHfew-RSNZn"
      }
    },
    {
      "cell_type": "code",
      "source": [
        "# unicode로 저장된 걸 ascii 로 바꿔준다\n",
        "\n",
        "import unicodedata\n",
        "import string\n",
        "\n",
        "# ascii 에 사용되는 글자수 <- 이게 나중에 하나하나가 one-hot으로 처리된다\n",
        "all_letters = string.ascii_letters + \" .,:'\"\n",
        "n_letters = len(all_letters)\n",
        "all_letters, n_letters"
      ],
      "metadata": {
        "id": "Lb8PAH58U57l",
        "colab": {
          "base_uri": "https://localhost:8080/"
        },
        "outputId": "7a8025c0-9d86-4423-c22a-eeeb1c26ac6a"
      },
      "execution_count": 5,
      "outputs": [
        {
          "output_type": "execute_result",
          "data": {
            "text/plain": [
              "(\"abcdefghijklmnopqrstuvwxyzABCDEFGHIJKLMNOPQRSTUVWXYZ .,:'\", 57)"
            ]
          },
          "metadata": {},
          "execution_count": 5
        }
      ]
    },
    {
      "cell_type": "code",
      "source": [
        "# https://stackoverflow.com/a/518232/2809427\n",
        "\n",
        "def unicodeToAscii(s):\n",
        "    return ''.join(\n",
        "        c for c in unicodedata.normalize('NFD', s)\n",
        "        if unicodedata.category(c) != 'Mn' and c in all_letters\n",
        "    )\n",
        "\n",
        "print(f'unicode : Ślusàrski \\nascii : {unicodeToAscii(\"Ślusàrski\")}')"
      ],
      "metadata": {
        "id": "1vpr-oeRVQQj",
        "colab": {
          "base_uri": "https://localhost:8080/"
        },
        "outputId": "fb2a53e7-e233-4ede-851a-2a234249d12e"
      },
      "execution_count": 6,
      "outputs": [
        {
          "output_type": "stream",
          "name": "stdout",
          "text": [
            "unicode : Ślusàrski \n",
            "ascii : Slusarski\n"
          ]
        }
      ]
    },
    {
      "cell_type": "code",
      "source": [
        "from io import open\n",
        "import os\n",
        "import glob\n",
        "\n",
        "# txt파일에 있는 이름에 unicode to ascii를 적용\n",
        "def readLines(filename):\n",
        "    lines = open(filename, encoding='utf-8').read().strip().split('\\n')\n",
        "    return [unicodeToAscii(line) for line in lines]\n",
        "\n",
        "# category : [이름1, 이름2, ...]\n",
        "category_lines = {}\n",
        "all_categories = []\n",
        "\n",
        "for filename in findFiles('data/names/*.txt'):\n",
        "    category = os.path.splitext(os.path.basename(filename))[0]\n",
        "    all_categories.append(category)\n",
        "    lines = readLines(filename)\n",
        "    category_lines[category] = lines\n",
        "n_categories = len(all_categories)"
      ],
      "metadata": {
        "id": "kp5WVeqOU3mN"
      },
      "execution_count": 13,
      "outputs": []
    },
    {
      "cell_type": "code",
      "metadata": {
        "id": "Mkjk05rwYUyx",
        "colab": {
          "base_uri": "https://localhost:8080/"
        },
        "outputId": "c8655b29-7949-43da-e912-2cf4ec0d076f"
      },
      "source": [
        "print(category_lines['Spanish'][:5])"
      ],
      "execution_count": 15,
      "outputs": [
        {
          "output_type": "stream",
          "name": "stdout",
          "text": [
            "['Abana', 'Abano', 'Abarca', 'Abaroa', 'Abascal']\n"
          ]
        }
      ]
    },
    {
      "cell_type": "code",
      "source": [
        "print(category_lines['Korean'][:5])"
      ],
      "metadata": {
        "id": "ZH6ea_ucJa46",
        "colab": {
          "base_uri": "https://localhost:8080/"
        },
        "outputId": "ee7df9fb-833d-4f86-fa72-07d5b07adba4"
      },
      "execution_count": 16,
      "outputs": [
        {
          "output_type": "stream",
          "name": "stdout",
          "text": [
            "['Ahn', 'Baik', 'Bang', 'Byon', 'Cha']\n"
          ]
        }
      ]
    },
    {
      "cell_type": "markdown",
      "source": [
        "### tensor화\n",
        "* 문자 하나당 one-hot encoding\n",
        "* 단어 = 문자 하나하나가 batch크기1로 들어간 batch묶음"
      ],
      "metadata": {
        "id": "5MtSYrTmcIL-"
      }
    },
    {
      "cell_type": "code",
      "source": [
        "# all_letters에 있는 문자 하나하나가 index위치를 차지\n",
        "# 'J'를 one-hot으로 나타내면, 'J'번째인 35번째가 1로 바뀜\n",
        "\n",
        "import torch\n",
        "\n",
        "def letterToIndex(letter):\n",
        "    return all_letters.find(letter)\n",
        "\n",
        "def letterToTensor(letter):\n",
        "    # 첫번째 차원을 1로 해서, 2차원으로 만들어준다.\n",
        "    # 신경망에서는 1차원으로 들어가지 않고, 2차원으로 들어가기 때문\n",
        "    # ex. fc : Linear(100,10) = (2,100) -> (2,10)\n",
        "    # batch 안에 1개 문자(batch크기=1)\n",
        "    tensor = torch.zeros(1, n_letters)\n",
        "    tensor[0][letterToIndex(letter)] = 1\n",
        "    return tensor\n",
        "\n",
        "print(all_letters, '\\n\\n', letterToTensor('J'))"
      ],
      "metadata": {
        "id": "rYwSS92cJhPp",
        "colab": {
          "base_uri": "https://localhost:8080/"
        },
        "outputId": "8e8562cf-4698-476f-f542-97c4d1b06c20"
      },
      "execution_count": 17,
      "outputs": [
        {
          "output_type": "stream",
          "name": "stdout",
          "text": [
            "abcdefghijklmnopqrstuvwxyzABCDEFGHIJKLMNOPQRSTUVWXYZ .,:' \n",
            "\n",
            " tensor([[0., 0., 0., 0., 0., 0., 0., 0., 0., 0., 0., 0., 0., 0., 0., 0., 0., 0.,\n",
            "         0., 0., 0., 0., 0., 0., 0., 0., 0., 0., 0., 0., 0., 0., 0., 0., 0., 1.,\n",
            "         0., 0., 0., 0., 0., 0., 0., 0., 0., 0., 0., 0., 0., 0., 0., 0., 0., 0.,\n",
            "         0., 0., 0.]])\n"
          ]
        }
      ]
    },
    {
      "cell_type": "code",
      "source": [
        "def lineToTensor(line): # one-hot\n",
        "    tensor = torch.zeros(len(line), 1, n_letters) # 단어를 이루는 문자수로 첫번째 차원을 확장 <- 5개의 batch\n",
        "    for li, letter in enumerate(line):\n",
        "        tensor[li][0][letterToIndex(letter)] = 1\n",
        "    return tensor\n",
        "\n",
        "print(lineToTensor('Jones'), '\\n') # J, o, n, e, s 차례대로 변환됨\n",
        "print(lineToTensor('Jones').size()) # batch크기가 1인게, 5개의 batch로 들어감."
      ],
      "metadata": {
        "id": "Oni2V154f90n",
        "colab": {
          "base_uri": "https://localhost:8080/"
        },
        "outputId": "3b51bd04-5292-4a6b-9631-62c4eb9057ee"
      },
      "execution_count": 18,
      "outputs": [
        {
          "output_type": "stream",
          "name": "stdout",
          "text": [
            "tensor([[[0., 0., 0., 0., 0., 0., 0., 0., 0., 0., 0., 0., 0., 0., 0., 0., 0.,\n",
            "          0., 0., 0., 0., 0., 0., 0., 0., 0., 0., 0., 0., 0., 0., 0., 0., 0.,\n",
            "          0., 1., 0., 0., 0., 0., 0., 0., 0., 0., 0., 0., 0., 0., 0., 0., 0.,\n",
            "          0., 0., 0., 0., 0., 0.]],\n",
            "\n",
            "        [[0., 0., 0., 0., 0., 0., 0., 0., 0., 0., 0., 0., 0., 0., 1., 0., 0.,\n",
            "          0., 0., 0., 0., 0., 0., 0., 0., 0., 0., 0., 0., 0., 0., 0., 0., 0.,\n",
            "          0., 0., 0., 0., 0., 0., 0., 0., 0., 0., 0., 0., 0., 0., 0., 0., 0.,\n",
            "          0., 0., 0., 0., 0., 0.]],\n",
            "\n",
            "        [[0., 0., 0., 0., 0., 0., 0., 0., 0., 0., 0., 0., 0., 1., 0., 0., 0.,\n",
            "          0., 0., 0., 0., 0., 0., 0., 0., 0., 0., 0., 0., 0., 0., 0., 0., 0.,\n",
            "          0., 0., 0., 0., 0., 0., 0., 0., 0., 0., 0., 0., 0., 0., 0., 0., 0.,\n",
            "          0., 0., 0., 0., 0., 0.]],\n",
            "\n",
            "        [[0., 0., 0., 0., 1., 0., 0., 0., 0., 0., 0., 0., 0., 0., 0., 0., 0.,\n",
            "          0., 0., 0., 0., 0., 0., 0., 0., 0., 0., 0., 0., 0., 0., 0., 0., 0.,\n",
            "          0., 0., 0., 0., 0., 0., 0., 0., 0., 0., 0., 0., 0., 0., 0., 0., 0.,\n",
            "          0., 0., 0., 0., 0., 0.]],\n",
            "\n",
            "        [[0., 0., 0., 0., 0., 0., 0., 0., 0., 0., 0., 0., 0., 0., 0., 0., 0.,\n",
            "          0., 1., 0., 0., 0., 0., 0., 0., 0., 0., 0., 0., 0., 0., 0., 0., 0.,\n",
            "          0., 0., 0., 0., 0., 0., 0., 0., 0., 0., 0., 0., 0., 0., 0., 0., 0.,\n",
            "          0., 0., 0., 0., 0., 0.]]]) \n",
            "\n",
            "torch.Size([5, 1, 57])\n"
          ]
        }
      ]
    },
    {
      "cell_type": "markdown",
      "metadata": {
        "id": "IPVvWrMHYelv"
      },
      "source": [
        "## 네트워크 생성"
      ]
    },
    {
      "cell_type": "markdown",
      "source": [
        "<img src=\"https://github.com/ksouth0413/dltutorial/raw/main/PyTorch%20KR/photo/rnn(1).jpeg\" height=\"300\">"
      ],
      "metadata": {
        "id": "GF_rT-jUZO6N"
      }
    },
    {
      "cell_type": "code",
      "metadata": {
        "id": "t6gKYokQYYZW"
      },
      "source": [
        "import torch.nn as nn\n",
        "import torch.nn.functional as F\n",
        "\n",
        "class RNN(nn.Module):\n",
        "\n",
        "    # CNN : 한 batch안에 8개의 동일한 크기 이미지(28x28)가 묶여있다.\n",
        "    # RNN : 한 batch안에 1개의 문자가 들어간다. 'Albert'는 batchsize가 1인 batch가 6개 모여있다.\n",
        "\n",
        "    # 즉, cnn은 한 batch의 데이터들이 따로 들어가서, 각각을 backpropagation하고 grad의 평균으로 weight-update\n",
        "    # rnn은 batch인 'A','l','b','e'... 이 순차적으로 들어가서 결국 Albert가 다 들어가야\n",
        "    # output이 나와 loss계산이 가능하고 이를 통해 backpropagation이 가능하다.\n",
        "    # 즉, sequence별로 처리\n",
        "\n",
        "    # cnn과 달리, size를 argument로 미리 받는다.\n",
        "    def __init__(self, input_size, hidden_size, output_size):\n",
        "        super(RNN, self).__init__()\n",
        "\n",
        "        self.hidden_size = hidden_size\n",
        "\n",
        "        self.i2h = nn.Linear(input_size, hidden_size)\n",
        "        self.h2h = nn.Linear(hidden_size, hidden_size)\n",
        "        self.h2o = nn.Linear(hidden_size, output_size)\n",
        "        self.softmax = nn.LogSoftmax(dim=1)\n",
        "\n",
        "    def forward(self, input, hidden):\n",
        "        hidden = F.tanh(self.i2h(input) + self.h2h(hidden))\n",
        "        output = self.h2o(hidden)\n",
        "        output = self.softmax(output)\n",
        "        return output, hidden\n",
        "\n",
        "    # 단어(시퀀스)가 달라질 때마다, hidden을 다시 0으로 초기화\n",
        "    def initHidden(self):\n",
        "        return torch.zeros(1, self.hidden_size)"
      ],
      "execution_count": 19,
      "outputs": []
    },
    {
      "cell_type": "code",
      "source": [
        "n_hidden = 128\n",
        "rnn = RNN(n_letters, n_hidden, n_categories)\n",
        "\n",
        "n_letters, n_hidden, n_categories"
      ],
      "metadata": {
        "colab": {
          "base_uri": "https://localhost:8080/"
        },
        "id": "t86V4a1e7HXa",
        "outputId": "567862a1-7bb8-41c1-ef9d-1b8f024e6bcb"
      },
      "execution_count": 20,
      "outputs": [
        {
          "output_type": "execute_result",
          "data": {
            "text/plain": [
              "(57, 128, 18)"
            ]
          },
          "metadata": {},
          "execution_count": 20
        }
      ]
    },
    {
      "cell_type": "code",
      "source": [
        "for p in rnn.parameters():\n",
        "    print(p.data.shape)"
      ],
      "metadata": {
        "colab": {
          "base_uri": "https://localhost:8080/"
        },
        "id": "Ulc_w8j4aGya",
        "outputId": "804c7dbc-93d4-433a-bcdf-760bc3efdf76"
      },
      "execution_count": 21,
      "outputs": [
        {
          "output_type": "stream",
          "name": "stdout",
          "text": [
            "torch.Size([128, 57])\n",
            "torch.Size([128])\n",
            "torch.Size([128, 128])\n",
            "torch.Size([128])\n",
            "torch.Size([18, 128])\n",
            "torch.Size([18])\n"
          ]
        }
      ]
    },
    {
      "cell_type": "markdown",
      "source": [
        "<img src=\"https://github.com/ksouth0413/dltutorial/raw/main/PyTorch%20KR/photo/rnn(2).jpeg\" height=\"300\">"
      ],
      "metadata": {
        "id": "auZsLcZTZeHu"
      }
    },
    {
      "cell_type": "code",
      "source": [
        "input = letterToTensor('C')\n",
        "hidden = torch.zeros(1, n_hidden)\n",
        "output, next_hidden = rnn(input, hidden)\n",
        "\n",
        "input.shape, hidden.shape, output.shape"
      ],
      "metadata": {
        "colab": {
          "base_uri": "https://localhost:8080/"
        },
        "id": "X8h_zrfplD4S",
        "outputId": "7650ea7f-18f5-46d8-f996-c69fd0f6d1d5"
      },
      "execution_count": 22,
      "outputs": [
        {
          "output_type": "execute_result",
          "data": {
            "text/plain": [
              "(torch.Size([1, 57]), torch.Size([1, 128]), torch.Size([1, 18]))"
            ]
          },
          "metadata": {},
          "execution_count": 22
        }
      ]
    },
    {
      "cell_type": "code",
      "metadata": {
        "id": "wpGGzL2NYku2",
        "colab": {
          "base_uri": "https://localhost:8080/"
        },
        "outputId": "7ffaf7a2-83dc-4fcd-8acd-6206ce005ea8"
      },
      "source": [
        "input = lineToTensor('Albert')\n",
        "hidden = torch.zeros(1, n_hidden)\n",
        "\n",
        "for i in range(input.size()[0]):\n",
        "    output, hidden = rnn(input[i], hidden)\n",
        "    print(input[i].shape, hidden.shape, output.shape)"
      ],
      "execution_count": 23,
      "outputs": [
        {
          "output_type": "stream",
          "name": "stdout",
          "text": [
            "torch.Size([1, 57]) torch.Size([1, 128]) torch.Size([1, 18])\n",
            "torch.Size([1, 57]) torch.Size([1, 128]) torch.Size([1, 18])\n",
            "torch.Size([1, 57]) torch.Size([1, 128]) torch.Size([1, 18])\n",
            "torch.Size([1, 57]) torch.Size([1, 128]) torch.Size([1, 18])\n",
            "torch.Size([1, 57]) torch.Size([1, 128]) torch.Size([1, 18])\n",
            "torch.Size([1, 57]) torch.Size([1, 128]) torch.Size([1, 18])\n"
          ]
        }
      ]
    },
    {
      "cell_type": "markdown",
      "metadata": {
        "id": "q3qAoF6BYrPW"
      },
      "source": [
        "## DataLoader와 비슷한 역할을 하는 함수 설정\n",
        "- (나라,이름) 순서쌍을 랜덤 추출\n",
        "- 추출한 쌍을 tensor화"
      ]
    },
    {
      "cell_type": "code",
      "metadata": {
        "id": "WNTCbv4aYoP2",
        "colab": {
          "base_uri": "https://localhost:8080/"
        },
        "outputId": "d56523c4-2b14-43a3-da77-992b9b989e97"
      },
      "source": [
        "# output벡터(1x36)을 likelihood 벡터로 생각\n",
        "# 따라서 가장 높은 likelihood값으로 estimator 선택\n",
        "\n",
        "def categoryFromOutput(output):\n",
        "    top_n, top_i = output.topk(1) # output의 가장 큰 값, index\n",
        "    category_i = top_i[0].item()\n",
        "    return all_categories[category_i], category_i\n",
        "\n",
        "print(categoryFromOutput(output))"
      ],
      "execution_count": 24,
      "outputs": [
        {
          "output_type": "stream",
          "name": "stdout",
          "text": [
            "('Japanese', 7)\n"
          ]
        }
      ]
    },
    {
      "cell_type": "code",
      "metadata": {
        "id": "aanvL45oYs00",
        "colab": {
          "base_uri": "https://localhost:8080/"
        },
        "outputId": "2998b58d-6258-4fe1-fa0c-b3db715d7be7"
      },
      "source": [
        "import random\n",
        "\n",
        "# 리스트의 값 중에 하나 랜덤 선택\n",
        "def randomChoice(l):\n",
        "    return l[random.randint(0, len(l)-1)]\n",
        "\n",
        "# 랜덤으로 국가-이름 쌍을 하나 가져오고, tensor화까지 진행\n",
        "def randomTrainingExample():\n",
        "    # 국가\n",
        "    category = randomChoice(all_categories)\n",
        "    # 이름(성)\n",
        "    line = randomChoice(category_lines[category])\n",
        "    # 국가 label encoding\n",
        "    category_tensor = torch.tensor([all_categories.index(category)], dtype=torch.long)\n",
        "    # 이름 one-hot encoding\n",
        "    line_tensor = lineToTensor(line)\n",
        "    return category, line, category_tensor, line_tensor\n",
        "\n",
        "category, line, category_tensor, line_tensor = randomTrainingExample()\n",
        "\n",
        "print(f'category : {category} -> {category_tensor}')\n",
        "print(f'line : {line} -> {line_tensor.shape}')"
      ],
      "execution_count": 25,
      "outputs": [
        {
          "output_type": "stream",
          "name": "stdout",
          "text": [
            "category : Portuguese -> tensor([2])\n",
            "line : D'cruze -> torch.Size([7, 1, 57])\n"
          ]
        }
      ]
    },
    {
      "cell_type": "code",
      "source": [
        "for i in range(10):\n",
        "    category, line, category_tensor, line_tensor = randomTrainingExample()\n",
        "    print('category =', category, '/ line =', line)"
      ],
      "metadata": {
        "colab": {
          "base_uri": "https://localhost:8080/"
        },
        "id": "rEvTJSP5SGp_",
        "outputId": "de076294-6811-4ea9-bf42-4683f357d672"
      },
      "execution_count": 26,
      "outputs": [
        {
          "output_type": "stream",
          "name": "stdout",
          "text": [
            "category = Russian / line = Tsvigun\n",
            "category = German / line = Muller\n",
            "category = Portuguese / line = Pinheiro\n",
            "category = French / line = Couture\n",
            "category = Scottish / line = Russell\n",
            "category = Dutch / line = Schuyler\n",
            "category = Korean / line = Yeon\n",
            "category = Spanish / line = Juarez\n",
            "category = English / line = Addison\n",
            "category = Czech / line = Monfort\n"
          ]
        }
      ]
    },
    {
      "cell_type": "markdown",
      "metadata": {
        "id": "qVA-IZP3Yzz2"
      },
      "source": [
        "## 손실함수\n",
        "* 마지막 단에 LogSoftmax()를 사용하니까\n",
        "* Negative Log-Likelihood Loss인 NLLLoss()를 사용한다."
      ]
    },
    {
      "cell_type": "code",
      "metadata": {
        "id": "Y98Uy0YPYwjY",
        "colab": {
          "base_uri": "https://localhost:8080/"
        },
        "outputId": "c5f5107a-c343-4798-cdf6-bd985eaee1e2"
      },
      "source": [
        "# likelihood를 최대화하는 estimator를 찾아야하는데\n",
        "# 최적화에서 loss는 보통 최소화를 하니, negative이고\n",
        "# 값의 크기를 줄이기 위해 log를 적용한다.\n",
        "\n",
        "criterion = nn.NLLLoss()\n",
        "criterion"
      ],
      "execution_count": 27,
      "outputs": [
        {
          "output_type": "execute_result",
          "data": {
            "text/plain": [
              "NLLLoss()"
            ]
          },
          "metadata": {},
          "execution_count": 27
        }
      ]
    },
    {
      "cell_type": "markdown",
      "metadata": {
        "id": "oDyQIe8lY_Vl"
      },
      "source": [
        "## 학습함수 train 정의"
      ]
    },
    {
      "cell_type": "code",
      "metadata": {
        "id": "4vIcTqP8Y9lo"
      },
      "source": [
        "learning_rate = 0.005 # 높으면 발산, 낮으면 학습안됨\n",
        "\n",
        "def train(category_tensor, line_tensor): # y, X\n",
        "\n",
        "    # 단어쌍(나라-이름)이 새로 들어올 때마다\n",
        "    hidden = rnn.initHidden() # hidden-input값을 0으로 초기화\n",
        "    rnn.zero_grad() # backprop 추적 초기화\n",
        "\n",
        "    # cnn은 batch단위로 들어가지만\n",
        "    # 이번 rnn에서는 batch크기가 1이라, seqence단위(여기서는 batch들)로 들어간다.\n",
        "    for i in range(line_tensor.size()[0]): # 이름의 문자가 하나씩 들어간다.\n",
        "        output, hidden = rnn(line_tensor[i], hidden)\n",
        "\n",
        "    # 단어의 모든 문자가 들어가야, 결과값인 output과 실제값인 y를 통해 loss계산\n",
        "    loss = criterion(output, category_tensor)\n",
        "    # 계산된 loss를 바탕으로 grad 계산\n",
        "    loss.backward()\n",
        "\n",
        "    # 가중치 업데이트\n",
        "    # weight = weight + grad * -lr\n",
        "    for p in rnn.parameters():\n",
        "        p.data.add_(p.grad.data, alpha=-learning_rate) # add_(inplace연산) vs add(비inplace연산)\n",
        "\n",
        "    return output, loss.item()"
      ],
      "execution_count": 28,
      "outputs": []
    },
    {
      "cell_type": "code",
      "source": [
        "category, line, category_tensor, line_tensor = randomTrainingExample()\n",
        "\n",
        "# 이걸 해줘야 이전에 들어간 hidden값이 초기화된다.\n",
        "# 이전 값은 grad로 이미 backprop이 진행되어 있을 수 있다.\n",
        "# 따라서 없이 진행하면 아래 loss.backward()에서 backprop을 하는거라, 초기화 필요함\n",
        "hidden = rnn.initHidden()\n",
        "rnn.zero_grad()\n",
        "\n",
        "# backprop전\n",
        "for i in range(line_tensor.size()[0]):\n",
        "    output, hidden = rnn(line_tensor[i], hidden)\n",
        "loss = criterion(output, category_tensor)\n",
        "for p in rnn.parameters():\n",
        "    print(f'전 : weight {p.data.shape}, grad {p.grad}') # backprop을 하지 않아, None이 저장\n",
        "print()\n",
        "\n",
        "# backprop후\n",
        "loss.backward()\n",
        "for p in rnn.parameters():\n",
        "    print(f'후 : weight {p.data.shape}, grad {p.grad.shape}') # backprop을 해서 weight에 대응하는 grad가 생성"
      ],
      "metadata": {
        "colab": {
          "base_uri": "https://localhost:8080/"
        },
        "id": "ZEzFXXpAYm97",
        "outputId": "7fa513d7-13fb-4c3f-8fc3-eec6f4c109f4"
      },
      "execution_count": 29,
      "outputs": [
        {
          "output_type": "stream",
          "name": "stdout",
          "text": [
            "전 : weight torch.Size([128, 57]), grad None\n",
            "전 : weight torch.Size([128]), grad None\n",
            "전 : weight torch.Size([128, 128]), grad None\n",
            "전 : weight torch.Size([128]), grad None\n",
            "전 : weight torch.Size([18, 128]), grad None\n",
            "전 : weight torch.Size([18]), grad None\n",
            "\n",
            "후 : weight torch.Size([128, 57]), grad torch.Size([128, 57])\n",
            "후 : weight torch.Size([128]), grad torch.Size([128])\n",
            "후 : weight torch.Size([128, 128]), grad torch.Size([128, 128])\n",
            "후 : weight torch.Size([128]), grad torch.Size([128])\n",
            "후 : weight torch.Size([18, 128]), grad torch.Size([18, 128])\n",
            "후 : weight torch.Size([18]), grad torch.Size([18])\n"
          ]
        }
      ]
    },
    {
      "cell_type": "code",
      "source": [
        "print(f'prev-weight : {p.data[:2]}')\n",
        "print(f'grad : {p.grad[:2]}\\n')\n",
        "\n",
        "learning_rate = 1\n",
        "\n",
        "print(f'later-weight : {p.data.add_(p.grad.data, alpha=-learning_rate)[:2]}')"
      ],
      "metadata": {
        "colab": {
          "base_uri": "https://localhost:8080/"
        },
        "id": "ybmipq8dYHrr",
        "outputId": "d20c85bf-d6fb-4ef7-ece2-359987dc3c9a"
      },
      "execution_count": 30,
      "outputs": [
        {
          "output_type": "stream",
          "name": "stdout",
          "text": [
            "prev-weight : tensor([-0.0051,  0.0670])\n",
            "grad : tensor([0.0592, 0.0543])\n",
            "\n",
            "later-weight : tensor([-0.0643,  0.0127])\n"
          ]
        }
      ]
    },
    {
      "cell_type": "code",
      "source": [
        "import numpy as np\n",
        "\n",
        "print(f'원래 : {np.round(p.data[0].item(),4)}')\n",
        "p.data.add(p.grad.data, alpha=-learning_rate)\n",
        "print(f'언더바없이 : {np.round(p.data[0].item(),4)}')\n",
        "p.data.add_(p.grad.data, alpha=-learning_rate)\n",
        "print(f'언더바사용 : {np.round(p.data[0].item(),4)}')"
      ],
      "metadata": {
        "colab": {
          "base_uri": "https://localhost:8080/"
        },
        "id": "LYfMEoHq4EKR",
        "outputId": "206a0480-163c-489d-ef0b-3b6c0ca5d8ab"
      },
      "execution_count": 31,
      "outputs": [
        {
          "output_type": "stream",
          "name": "stdout",
          "text": [
            "원래 : -0.0643\n",
            "언더바없이 : -0.0643\n",
            "언더바사용 : -0.1234\n"
          ]
        }
      ]
    },
    {
      "cell_type": "code",
      "source": [
        "# 다시 불러오기\n",
        "\n",
        "learning_rate = 0.005\n",
        "\n",
        "def train(category_tensor, line_tensor):\n",
        "\n",
        "    hidden = rnn.initHidden()\n",
        "    rnn.zero_grad()\n",
        "\n",
        "    for i in range(line_tensor.size()[0]):\n",
        "        output, hidden = rnn(line_tensor[i], hidden)\n",
        "\n",
        "    loss = criterion(output, category_tensor)\n",
        "    loss.backward()\n",
        "\n",
        "    for p in rnn.parameters():\n",
        "        p.data.add_(p.grad.data, alpha=-learning_rate)\n",
        "\n",
        "    return output, loss.item()"
      ],
      "metadata": {
        "id": "J_RmURaBhMx6"
      },
      "execution_count": 32,
      "outputs": []
    },
    {
      "cell_type": "markdown",
      "metadata": {
        "id": "J0_2HyE3ZPZk"
      },
      "source": [
        "## 실제 학습"
      ]
    },
    {
      "cell_type": "code",
      "source": [
        "import time\n",
        "import math\n",
        "\n",
        "def timeSince(since):\n",
        "    now = time.time()\n",
        "    s = now - since # 차이나는 시간(단위:초)\n",
        "    m = math.floor(s / 60) # 단위 : 초->분\n",
        "    s -= m * 60 # 나머지 : 초\n",
        "    return '%dm %ds' % (m, s)\n",
        "\n",
        "# 학습 시작시간\n",
        "start = time.time()\n",
        "\n",
        "current_loss = 0\n",
        "all_losses = []\n",
        "\n",
        "# (국가,이름) 쌍을 총 10만개 학습한다.\n",
        "n_iters = 10**5\n",
        "print_every = 5*10**3\n",
        "plot_every = 10**3\n",
        "\n",
        "for iter in range(1, n_iters + 1):\n",
        "    # 입력값 = (국가,이름) 쌍\n",
        "    category, line, category_tensor, line_tensor = randomTrainingExample()\n",
        "    # 입력값을 토대로 나온 output벡터와 loss값\n",
        "    output, loss = train(category_tensor, line_tensor)\n",
        "    # plot_every인 1,000번 동안 나온 loss를 합한다.\n",
        "    current_loss += loss\n",
        "\n",
        "    # 5,000번 마다 답이 맞는지 확인\n",
        "    if iter % print_every == 0:\n",
        "        # output값을 토대로 '국가'를 예측한다.\n",
        "        guess, guess_i = categoryFromOutput(output)\n",
        "        correct = '✓' if guess == category else '✗ (%s)' % category\n",
        "        print('%d %d%% (%s) %.4f,  %s / %s %s' % (iter, iter/n_iters*100, timeSince(start), loss, line, guess, correct))\n",
        "\n",
        "    # 1,000번 마다 구간안에서의 loss합을 확인\n",
        "    if iter % plot_every == 0:\n",
        "        all_losses.append(current_loss / plot_every) # 1,000개 단어 loss 평균\n",
        "        current_loss = 0"
      ],
      "metadata": {
        "colab": {
          "base_uri": "https://localhost:8080/"
        },
        "id": "60kdPMxCYHAJ",
        "outputId": "e6f2672d-f5e9-4ce5-9e18-5d9034a3de00"
      },
      "execution_count": 33,
      "outputs": [
        {
          "output_type": "stream",
          "name": "stdout",
          "text": [
            "5000 5% (0m 7s) 3.1480,  Ola / Korean ✗ (Spanish)\n",
            "10000 10% (0m 15s) 2.5840,  Olivier / German ✗ (French)\n",
            "15000 15% (0m 22s) 3.4997,  Lucas / Arabic ✗ (Dutch)\n",
            "20000 20% (0m 30s) 2.2432,  Belanger / German ✗ (French)\n",
            "25000 25% (0m 38s) 2.7950,  Hughes / Dutch ✗ (Scottish)\n",
            "30000 30% (0m 45s) 2.6316,  Korycan / Dutch ✗ (Czech)\n",
            "35000 35% (0m 53s) 1.6469,  Moreno / Spanish ✗ (Portuguese)\n",
            "40000 40% (1m 0s) 2.7882,  Bolivar / French ✗ (Spanish)\n",
            "45000 45% (1m 8s) 2.3863,  Chu / Vietnamese ✗ (Korean)\n",
            "50000 50% (1m 16s) 3.1943,  Ludwig / Russian ✗ (German)\n",
            "55000 55% (1m 23s) 1.5707,  Ferrero / Spanish ✗ (Italian)\n",
            "60000 60% (1m 31s) 0.6417,  Brodeur / French ✓\n",
            "65000 65% (1m 38s) 0.2480,  Sinclair / Scottish ✓\n",
            "70000 70% (1m 45s) 0.2211,  Fan / Chinese ✓\n",
            "75000 75% (1m 55s) 0.4635,  Vela / Spanish ✓\n",
            "80000 80% (2m 2s) 3.7706,  Salomon / French ✗ (Polish)\n",
            "85000 85% (2m 9s) 0.5045,  Avksentievsky / Russian ✓\n",
            "90000 90% (2m 17s) 0.9069,  Antwerp / Dutch ✓\n",
            "95000 95% (2m 24s) 2.5684,  Rhodes / Dutch ✗ (English)\n",
            "100000 100% (2m 32s) 3.4684,  Manus / Portuguese ✗ (Irish)\n"
          ]
        }
      ]
    },
    {
      "cell_type": "code",
      "metadata": {
        "id": "MBVWJNmoZO8a",
        "colab": {
          "base_uri": "https://localhost:8080/",
          "height": 256
        },
        "outputId": "071d1c50-ebd7-4399-e0f2-32294c0713f3"
      },
      "source": [
        "import matplotlib.pyplot as plt\n",
        "import matplotlib.ticker as ticker\n",
        "\n",
        "\n",
        "plt.figure(figsize=(4,2))\n",
        "plt.plot(all_losses)\n",
        "plt.xlabel('per 1,000 group')\n",
        "plt.ylabel('average loss per 1,000 (category,line)')\n",
        "plt.title('loss change')\n",
        "plt.show()"
      ],
      "execution_count": 34,
      "outputs": [
        {
          "output_type": "display_data",
          "data": {
            "text/plain": [
              "<Figure size 400x200 with 1 Axes>"
            ],
            "image/png": "[encoded data removed]"
          },
          "metadata": {}
        }
      ]
    },
    {
      "cell_type": "markdown",
      "source": [
        "## 결과 평가"
      ],
      "metadata": {
        "id": "VzZ-sdgs5Y4i"
      }
    },
    {
      "cell_type": "code",
      "source": [
        "confusion = torch.zeros(n_categories, n_categories)\n",
        "n_confusion = 10000\n",
        "\n",
        "# 학습된 모델을 사용하고자 한다.\n",
        "# 입력이 주어지면, output을 뽑아내는 함수\n",
        "# 단, weight는 학습하지 않고 학습된 상태거를 사용.(아래cell의 train과 다름)\n",
        "def evaluate(line_tensor):\n",
        "    hidden = rnn.initHidden()\n",
        "\n",
        "    for i in range(line_tensor.size()[0]):\n",
        "        output, hidden = rnn(line_tensor[i], hidden)\n",
        "\n",
        "    return output\n",
        "\n",
        "# 10,000개의 데이터들을 가지고 평가\n",
        "for i in range(n_confusion):\n",
        "    # 데이터를 하나씩 랜덤으로 선택\n",
        "    category, line, category_tensor, line_tensor = randomTrainingExample()\n",
        "    # 학습된 모델로 output벡터 획득\n",
        "    output = evaluate(line_tensor)\n",
        "    # output벡터로부터 가장 높은 likelihood값을 가지는 category값 획득\n",
        "    guess, guess_i = categoryFromOutput(output)\n",
        "    # category index\n",
        "    category_i = all_categories.index(category)\n",
        "    # confusion matrix 제작 : (실제정답, 추정한정답)\n",
        "    confusion[category_i][guess_i] += 1\n",
        "\n",
        "# 정규화\n",
        "for i in range(n_categories):\n",
        "    confusion[i] = confusion[i] / confusion[i].sum()\n",
        "\n",
        "# 시각화\n",
        "fig = plt.figure(constrained_layout=True)\n",
        "ax = fig.add_subplot(111)\n",
        "cax = ax.matshow(confusion.numpy())\n",
        "fig.colorbar(cax)\n",
        "\n",
        "ax.set_xticklabels([''] + all_categories, rotation=90)\n",
        "ax.set_yticklabels([''] + all_categories)\n",
        "\n",
        "ax.xaxis.set_major_locator(ticker.MultipleLocator(1))\n",
        "ax.yaxis.set_major_locator(ticker.MultipleLocator(1))\n",
        "\n",
        "plt.show()"
      ],
      "metadata": {
        "colab": {
          "base_uri": "https://localhost:8080/",
          "height": 599
        },
        "id": "fKSiTiTk5bO1",
        "outputId": "83da15ae-1ae1-4f0f-ff70-33d6b809ede7"
      },
      "execution_count": 35,
      "outputs": [
        {
          "output_type": "stream",
          "name": "stderr",
          "text": [
            "<ipython-input-35-36d5c3774337>:38: UserWarning: FixedFormatter should only be used together with FixedLocator\n",
            "  ax.set_xticklabels([''] + all_categories, rotation=90)\n",
            "<ipython-input-35-36d5c3774337>:39: UserWarning: FixedFormatter should only be used together with FixedLocator\n",
            "  ax.set_yticklabels([''] + all_categories)\n"
          ]
        },
        {
          "output_type": "display_data",
          "data": {
            "text/plain": [
              "<Figure size 640x480 with 2 Axes>"
            ],
            "image/png": "[encoded data removed]"
          },
          "metadata": {}
        }
      ]
    },
    {
      "cell_type": "markdown",
      "source": [
        "* 가로 : 추정값\n",
        "* 세로 : 정답 <br>\n",
        "\n",
        "주축에서 벗어난 밝은 점을 선택하여 잘못 추측한 언어를 표시할 수 있습니다. 예를 들어 한국어는 중국어로 이탈리아어로 스페인어로. 그리스어는 매우 잘되는 것으로 영어는 매우 나쁜 것으로 보입니다. (다른 언어들과의 중첩 때문으로 추정)"
      ],
      "metadata": {
        "id": "8rfdZ6bV__de"
      }
    },
    {
      "cell_type": "code",
      "source": [
        "# train부분에서 학습과 관련된 부분만 제거\n",
        "\n",
        "# learning_rate = 0.005\n",
        "\n",
        "def train(category_tensor, line_tensor):\n",
        "\n",
        "    hidden = rnn.initHidden()\n",
        "    # rnn.zero_grad()\n",
        "\n",
        "    for i in range(line_tensor.size()[0]):\n",
        "        output, hidden = rnn(line_tensor[i], hidden)\n",
        "\n",
        "    # loss = criterion(output, category_tensor)\n",
        "    # loss.backward()\n",
        "\n",
        "    # for p in rnn.parameters():\n",
        "    #     p.data.add_(p.grad.data, alpha=-learning_rate)\n",
        "\n",
        "    return output, loss.item()"
      ],
      "metadata": {
        "id": "cG0HYhqx5bHb"
      },
      "execution_count": 37,
      "outputs": []
    },
    {
      "cell_type": "markdown",
      "metadata": {
        "id": "AfjRYlioZV3o"
      },
      "source": [
        "## 사용자 입력으로부터의 실행"
      ]
    },
    {
      "cell_type": "code",
      "metadata": {
        "id": "uteG1Je5ZQWg",
        "colab": {
          "base_uri": "https://localhost:8080/"
        },
        "outputId": "9e971630-3fa2-41d5-f2a5-6071ac6d41fd"
      },
      "source": [
        "def predict(input_line, n_predictions=3):\n",
        "    print('\\n> %s' % input_line)\n",
        "    with torch.no_grad():\n",
        "        output = evaluate(lineToTensor(input_line))\n",
        "\n",
        "        # Get top N categories\n",
        "        topv, topi = output.topk(n_predictions, 1, True)\n",
        "        predictions = []\n",
        "\n",
        "        for i in range(n_predictions):\n",
        "            value = topv[0][i].item()\n",
        "            category_index = topi[0][i].item()\n",
        "            print('(%.2f) %s' % (value, all_categories[category_index]))\n",
        "            predictions.append([value, all_categories[category_index]])\n",
        "\n",
        "predict('Dovesky')\n",
        "predict('Jackson')\n",
        "predict('Satoshi')"
      ],
      "execution_count": 36,
      "outputs": [
        {
          "output_type": "stream",
          "name": "stdout",
          "text": [
            "\n",
            "> Dovesky\n",
            "(-0.38) Russian\n",
            "(-1.77) Czech\n",
            "(-2.72) Polish\n",
            "\n",
            "> Jackson\n",
            "(-0.08) Scottish\n",
            "(-2.70) English\n",
            "(-5.78) Russian\n",
            "\n",
            "> Satoshi\n",
            "(-0.08) Japanese\n",
            "(-3.12) Italian\n",
            "(-3.87) Greek\n"
          ]
        }
      ]
    }
  ]
}